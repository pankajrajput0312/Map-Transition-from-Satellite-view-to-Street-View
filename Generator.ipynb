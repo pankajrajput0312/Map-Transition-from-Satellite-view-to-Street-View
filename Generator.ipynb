{
 "cells": [
  {
   "cell_type": "code",
   "execution_count": 2,
   "metadata": {},
   "outputs": [],
   "source": [
    "import torch\n",
    "from torch import nn"
   ]
  },
  {
   "cell_type": "code",
   "execution_count": 14,
   "metadata": {},
   "outputs": [],
   "source": [
    "class Generator_ContractingBlock(nn.Module):\n",
    "    def __init__(self, in_channels, use_dropout = False, use_batchNorm = True):\n",
    "        super(Generator_ContractingBlock, self).__init__()\n",
    "        self.conv1 = nn.Conv2d(in_channels, in_channels * 2, kernel_size=3, padding=1)\n",
    "        self.conv2 = nn.Conv2d(in_channels * 2, in_channels * 2, kernel_size=3, padding=1)\n",
    "        self.activation = nn.LeakyReLU(0.2)\n",
    "        self.maxpool = nn.MaxPool2d(kernel_size=2, stride=2)\n",
    "        if use_batchNorm:\n",
    "            self.batchnorm = nn.BatchNorm2d(in_channels * 2)\n",
    "        self.use_batchNorm = use_batchNorm\n",
    "        if use_dropout:\n",
    "            self.dropout = nn.Dropout()\n",
    "        self.use_dropout = use_dropout\n",
    "    def forward(self, x):\n",
    "        x = self.conv1(x)\n",
    "        if self.use_batchNorm:\n",
    "            x = self.batchnorm(x)\n",
    "        if self.use_dropout:\n",
    "            x = self.dropout(x)\n",
    "        x = self.activation(x)\n",
    "        x = self.conv2(x)\n",
    "        if self.use_batchNorm:\n",
    "            x = self.batchnorm(x)\n",
    "        if self.use_dropout:\n",
    "            x = self.dropout(x)\n",
    "        x = self.activation(x)\n",
    "        x= self.maxpool(x)\n",
    "        return x"
   ]
  },
  {
   "cell_type": "code",
   "execution_count": 16,
   "metadata": {},
   "outputs": [],
   "source": [
    "img = torch.randn((1,3, 256, 256))\n",
    "block = Generator_ContractingBlock(in_channels=3)\n"
   ]
  },
  {
   "cell_type": "code",
   "execution_count": 17,
   "metadata": {},
   "outputs": [],
   "source": [
    "preds = block(img)"
   ]
  },
  {
   "cell_type": "code",
   "execution_count": 19,
   "metadata": {},
   "outputs": [
    {
     "name": "stdout",
     "output_type": "stream",
     "text": [
      "torch.Size([1, 3, 256, 256])\n",
      "torch.Size([1, 6, 128, 128])\n"
     ]
    }
   ],
   "source": [
    "print(img.shape)\n",
    "print(preds.shape)"
   ]
  },
  {
   "cell_type": "code",
   "execution_count": 34,
   "metadata": {},
   "outputs": [],
   "source": [
    "class Generator_ExpandingBlock(nn.Module):\n",
    "    def __init__(self, in_channels, use_dropout = False, use_batchNorm = True):\n",
    "        super(Generator_ExpandingBlock, self).__init__()\n",
    "        self.upsample = nn.Upsample(scale_factor=2, mode='bilinear', align_corners=True)\n",
    "        self.conv1 = nn.Conv2d(in_channels, in_channels // 2, kernel_size=2)\n",
    "        self.conv2 = nn.Conv2d(in_channels, in_channels // 2, kernel_size=3, padding=1)\n",
    "        self.conv3 = nn.Conv2d(in_channels // 2, in_channels // 2, kernel_size=2, padding=1)\n",
    "        if use_batchNorm:\n",
    "            self.batchnorm = nn.BatchNorm2d(in_channels // 2)\n",
    "        self.use_batchNorm = use_batchNorm\n",
    "        self.activation = nn.ReLU()\n",
    "        if use_dropout:\n",
    "            self.dropout = nn.Dropout()\n",
    "        self.use_dropout = use_dropout\n",
    "    \n",
    "    def forward(self, x, skip_con_x):\n",
    "        x = self.upsample(x)\n",
    "        x = self.conv1(x)\n",
    "        x = torch.cat([x, skip_con_x], axis=1)\n",
    "        x = self.conv2(x)\n",
    "        if self.use_batchNorm:\n",
    "            x = self.batchnorm(x)\n",
    "        if self.use_dropout:\n",
    "            x = self.dropout(x)\n",
    "        x = self.activation(x)\n",
    "        x = self.conv3(x)\n",
    "        if self.use_batchNorm:\n",
    "            x = self.batchnorm(x)\n",
    "        if self.use_dropout:\n",
    "            x = self.dropout(x)\n",
    "        x = self.activation(x)\n",
    "        return x"
   ]
  },
  {
   "cell_type": "code",
   "execution_count": 42,
   "metadata": {},
   "outputs": [],
   "source": [
    "class Unet(nn.Module):\n",
    "    def __init__(self, in_channels, out_channels, hidden_channels =32):\n",
    "        super(Unet, self).__init__()\n",
    "        self.upfeature = nn.Conv2d(in_channels, out_channels, kernel_size =1)\n",
    "        self.contract1 =  Generator_ContractingBlock(hidden_channels, use_dropout=True)\n",
    "        self.contract2 = Generator_ContractingBlock(hidden_channels*2, use_dropout=True)\n",
    "        self.contract3 =  Generator_ContractingBlock(hidden_channels*4, use_dropout=True)\n",
    "        self.contract4 = Generator_ContractingBlock(hidden_channels*8)\n",
    "        self.contract5 = Generator_ContractingBlock(hidden_channels*16)\n",
    "        self.contract6 = Generator_ContractingBlock(hidden_channels*32)\n",
    "        \n",
    "        self.expand0 = Generator_ExpandingBlock(hidden_channels*64)\n",
    "        self.expand1 = Generator_ExpandingBlock(hidden_channels*32)\n",
    "        self.expand2 = Generator_ExpandingBlock(hidden_channels*16)\n",
    "        self.expand3 = Generator_ExpandingBlock(hidden_channels*8)\n",
    "        self.expand4 = Generator_ExpandingBlock(hidden_channels*4)\n",
    "        self.expand5 = Generator_ExpandingBlock(hidden_channels*2)\n",
    "        self.downfeature = nn.Conv2d(in_channels, out_channels, kernel_size =1)\n",
    "        self.sigmoid = nn.Sigmoid()\n",
    "    \n",
    "    def forward(self, x):\n",
    "        x0 = self.upfeature(x)\n",
    "        x1 = self. contract1(x0)\n",
    "        x2 = self.contract2(x1)\n",
    "        x3 = self. contract3(x2)\n",
    "        x4 = self.contract4(x3)\n",
    "        x5 = self. contract5(x4)\n",
    "        x6 = self.contract6(x5)\n",
    "   \n",
    "   "
   ]
  },
  {
   "cell_type": "code",
   "execution_count": null,
   "metadata": {},
   "outputs": [],
   "source": []
  },
  {
   "cell_type": "code",
   "execution_count": null,
   "metadata": {},
   "outputs": [],
   "source": []
  }
 ],
 "metadata": {
  "kernelspec": {
   "display_name": "Python 3",
   "language": "python",
   "name": "python3"
  },
  "language_info": {
   "codemirror_mode": {
    "name": "ipython",
    "version": 3
   },
   "file_extension": ".py",
   "mimetype": "text/x-python",
   "name": "python",
   "nbconvert_exporter": "python",
   "pygments_lexer": "ipython3",
   "version": "3.7.9"
  }
 },
 "nbformat": 4,
 "nbformat_minor": 4
}
